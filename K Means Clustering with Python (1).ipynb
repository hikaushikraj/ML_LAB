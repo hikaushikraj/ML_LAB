{
 "cells": [
  {
   "cell_type": "markdown",
   "metadata": {},
   "source": [
    "\n",
    "___\n",
    "# K Means Clustering with Python\n",
    "\n",
    "## Method Used\n",
    "\n",
    "K Means Clustering is an unsupervised learning algorithm that tries to cluster data based on their similarity. Unsupervised learning means that there is no outcome to be predicted, and the algorithm just tries to find patterns in the data. In k means clustering, we have the specify the number of clusters we want the data to be grouped into. The algorithm randomly assigns each observation to a cluster, and finds the centroid of each cluster. Then, the algorithm iterates through two steps:\n",
    "Reassign data points to the cluster whose centroid is closest. Calculate new centroid of each cluster. These two steps are repeated till the within cluster variation cannot be reduced any further. The within cluster variation is calculated as the sum of the euclidean distance between the data points and their respective cluster centroids."
   ]
  },
  {
   "cell_type": "markdown",
   "metadata": {},
   "source": [
    "## Import Libraries"
   ]
  },
  {
   "cell_type": "code",
   "execution_count": 1,
   "metadata": {},
   "outputs": [],
   "source": [
    "import seaborn as sns\n",
    "import matplotlib.pyplot as plt\n",
    "%matplotlib inline"
   ]
  },
  {
   "cell_type": "markdown",
   "metadata": {},
   "source": [
    "## Create some Data"
   ]
  },
  {
   "cell_type": "code",
   "execution_count": 2,
   "metadata": {},
   "outputs": [],
   "source": [
    "from sklearn.datasets import make_blobs"
   ]
  },
  {
   "cell_type": "code",
   "execution_count": 3,
   "metadata": {},
   "outputs": [
    {
     "name": "stdout",
     "output_type": "stream",
     "text": [
      "[[ -4.89080477   6.40632485   9.56604976  -9.85659782  -8.33017413\n",
      "    0.70633772]\n",
      " [ -5.52807557   7.51137531   7.97609496  -3.55257922  -7.77876562\n",
      "    2.37803947]\n",
      " [ -5.27829852   6.51607194   6.64744926  -4.2549573    0.41212635\n",
      "   -3.27502496]\n",
      " ...\n",
      " [  0.6716401    1.25702879 -10.06171096  -3.78363097   5.63319988\n",
      "    6.5682906 ]\n",
      " [ -3.4636576    7.82370016   3.13763573  -8.43492042   1.23678503\n",
      "   -2.4593151 ]\n",
      " [  3.10122246  -7.47784839   0.85484163   3.90091607  -9.91267709\n",
      "   -8.38816725]] [2 2 1 3 3 3 3 2 3 2 0 3 0 1 3 0 3 2 3 3 1 0 3 3 3 2 0 3 2 0 1 1 2 2 0 3 2\n",
      " 2 1 0 0 0 1 0 0 2 0 2 2 3 1 1 0 2 3 3 1 2 0 0 3 2 0 1 1 2 3 0 0 2 1 1 3 3\n",
      " 0 3 1 3 1 1 2 1 3 3 2 1 1 1 0 3 2 1 1 0 3 3 1 2 1 0 2 0 2 2 1 1 1 1 3 1 1\n",
      " 1 2 1 1 1 0 2 3 2 1 1 3 2 3 2 2 1 1 1 3 1 2 2 1 0 3 2 3 1 2 1 2 0 2 0 3 1\n",
      " 2 3 1 0 2 0 0 3 1 2 0 1 0 2 1 0 2 3 2 3 0 2 2 1 0 3 2 3 0 2 2 1 2 3 2 1 2\n",
      " 3 0 3 3 0 2 2 0 2 2 3 2 0 2 1 0 0 0 0 1 2 1 1 2 1 0 1 3 1 0 1 2 2 2 3 0 2\n",
      " 2 3 3 3 1 3 2 3 3 3 1 3 3 2 2 3 3 1 1 0 2 1 0 3 3 3 0 2 3 2 0 2 3 3 3 0 0\n",
      " 2 0 0 3 3 0 2 3 1 3 0 1 2 0 2 1 1 3 3 1 2 3 1 0 2 1 3 0 0 2 2 2 2 1 0 2 1\n",
      " 3 1 2 2 3 2 1 1 3 0 2 0 3 3 2 1 2 3 2 2 1 3 0 0 1 3 1 3 3 3 2 0 0 1 0 0 1\n",
      " 0 0 1 3 0 1 0 1 1 0 0 2 2 3 3 3 3 1 2 2 3 0 0 1 1 1 0 2 0 1 2 2 3 0 1 3 1\n",
      " 1 2 3 1 0 2 3 2 1 2 3 3 0 3 1 2 0 0 0 2 1 3 1 3 2 3 3 3 1 1 0 0 0 3 1 0 1\n",
      " 0 3 0 2 0 2 3 0 1 3 0 2 1 0 2 2 1 2 3 0 2 2 1 2 3 1 0 3 0 2 3 2 2 0 0 0 0\n",
      " 0 1 3 1 1 3 0 0 2 2 3 1 3 3 2 1 0 0 0 3 0 1 2 3 2 2 1 1 3 2 0 1 2 0 0 3 3\n",
      " 0 0 3 1 1 0 2 0 1 1 2 2 1 3 1 2 3 2 0 1 2 2 3 0 0 2 3 1 3 3 0 0 1 3 0 3 0\n",
      " 1 3 1 0 0 2 1 1 0 1 0 2 3 3 3 2 3 2 1 0 2 1 3 3 1 0 1 0 0 0 0 0 2 0 1 0 2\n",
      " 1 1 3 1 1 1 2 0 0 2 2 3 0 3 3 0 1 3 0 3 3 2 0 1 0 3 2 0 2 3 2 2 3 1 1 0 0\n",
      " 0 1 2 1 1 0 1 3]\n"
     ]
    }
   ],
   "source": [
    "# Create Data\n",
    "data = make_blobs(n_samples=600, n_features=6, \n",
    "                           centers=4, cluster_std=1.8,random_state=101)\n",
    "print(data[0][:,:],data[1])"
   ]
  },
  {
   "cell_type": "code",
   "execution_count": 4,
   "metadata": {},
   "outputs": [
    {
     "data": {
      "text/html": [
       "<div>\n",
       "<style scoped>\n",
       "    .dataframe tbody tr th:only-of-type {\n",
       "        vertical-align: middle;\n",
       "    }\n",
       "\n",
       "    .dataframe tbody tr th {\n",
       "        vertical-align: top;\n",
       "    }\n",
       "\n",
       "    .dataframe thead th {\n",
       "        text-align: right;\n",
       "    }\n",
       "</style>\n",
       "<table border=\"1\" class=\"dataframe\">\n",
       "  <thead>\n",
       "    <tr style=\"text-align: right;\">\n",
       "      <th></th>\n",
       "      <th>0</th>\n",
       "      <th>1</th>\n",
       "      <th>2</th>\n",
       "      <th>3</th>\n",
       "      <th>4</th>\n",
       "      <th>5</th>\n",
       "      <th>0</th>\n",
       "    </tr>\n",
       "  </thead>\n",
       "  <tbody>\n",
       "    <tr>\n",
       "      <th>0</th>\n",
       "      <td>-4.890805</td>\n",
       "      <td>6.406325</td>\n",
       "      <td>9.566050</td>\n",
       "      <td>-9.856598</td>\n",
       "      <td>-8.330174</td>\n",
       "      <td>0.706338</td>\n",
       "      <td>2</td>\n",
       "    </tr>\n",
       "    <tr>\n",
       "      <th>1</th>\n",
       "      <td>-5.528076</td>\n",
       "      <td>7.511375</td>\n",
       "      <td>7.976095</td>\n",
       "      <td>-3.552579</td>\n",
       "      <td>-7.778766</td>\n",
       "      <td>2.378039</td>\n",
       "      <td>2</td>\n",
       "    </tr>\n",
       "    <tr>\n",
       "      <th>2</th>\n",
       "      <td>-5.278299</td>\n",
       "      <td>6.516072</td>\n",
       "      <td>6.647449</td>\n",
       "      <td>-4.254957</td>\n",
       "      <td>0.412126</td>\n",
       "      <td>-3.275025</td>\n",
       "      <td>1</td>\n",
       "    </tr>\n",
       "    <tr>\n",
       "      <th>3</th>\n",
       "      <td>3.069521</td>\n",
       "      <td>-1.882992</td>\n",
       "      <td>2.397582</td>\n",
       "      <td>4.022493</td>\n",
       "      <td>-8.829684</td>\n",
       "      <td>-6.714562</td>\n",
       "      <td>3</td>\n",
       "    </tr>\n",
       "    <tr>\n",
       "      <th>4</th>\n",
       "      <td>4.298574</td>\n",
       "      <td>-4.641806</td>\n",
       "      <td>3.906777</td>\n",
       "      <td>-1.571692</td>\n",
       "      <td>-10.801335</td>\n",
       "      <td>-5.016620</td>\n",
       "      <td>3</td>\n",
       "    </tr>\n",
       "    <tr>\n",
       "      <th>...</th>\n",
       "      <td>...</td>\n",
       "      <td>...</td>\n",
       "      <td>...</td>\n",
       "      <td>...</td>\n",
       "      <td>...</td>\n",
       "      <td>...</td>\n",
       "      <td>...</td>\n",
       "    </tr>\n",
       "    <tr>\n",
       "      <th>595</th>\n",
       "      <td>-4.958342</td>\n",
       "      <td>8.133838</td>\n",
       "      <td>1.991911</td>\n",
       "      <td>-6.290361</td>\n",
       "      <td>3.493965</td>\n",
       "      <td>-1.571128</td>\n",
       "      <td>1</td>\n",
       "    </tr>\n",
       "    <tr>\n",
       "      <th>596</th>\n",
       "      <td>-1.343884</td>\n",
       "      <td>9.910048</td>\n",
       "      <td>7.337545</td>\n",
       "      <td>-7.699151</td>\n",
       "      <td>-0.031236</td>\n",
       "      <td>-1.912857</td>\n",
       "      <td>1</td>\n",
       "    </tr>\n",
       "    <tr>\n",
       "      <th>597</th>\n",
       "      <td>0.671640</td>\n",
       "      <td>1.257029</td>\n",
       "      <td>-10.061711</td>\n",
       "      <td>-3.783631</td>\n",
       "      <td>5.633200</td>\n",
       "      <td>6.568291</td>\n",
       "      <td>0</td>\n",
       "    </tr>\n",
       "    <tr>\n",
       "      <th>598</th>\n",
       "      <td>-3.463658</td>\n",
       "      <td>7.823700</td>\n",
       "      <td>3.137636</td>\n",
       "      <td>-8.434920</td>\n",
       "      <td>1.236785</td>\n",
       "      <td>-2.459315</td>\n",
       "      <td>1</td>\n",
       "    </tr>\n",
       "    <tr>\n",
       "      <th>599</th>\n",
       "      <td>3.101222</td>\n",
       "      <td>-7.477848</td>\n",
       "      <td>0.854842</td>\n",
       "      <td>3.900916</td>\n",
       "      <td>-9.912677</td>\n",
       "      <td>-8.388167</td>\n",
       "      <td>3</td>\n",
       "    </tr>\n",
       "  </tbody>\n",
       "</table>\n",
       "<p>600 rows × 7 columns</p>\n",
       "</div>"
      ],
      "text/plain": [
       "            0         1          2         3          4         5  0\n",
       "0   -4.890805  6.406325   9.566050 -9.856598  -8.330174  0.706338  2\n",
       "1   -5.528076  7.511375   7.976095 -3.552579  -7.778766  2.378039  2\n",
       "2   -5.278299  6.516072   6.647449 -4.254957   0.412126 -3.275025  1\n",
       "3    3.069521 -1.882992   2.397582  4.022493  -8.829684 -6.714562  3\n",
       "4    4.298574 -4.641806   3.906777 -1.571692 -10.801335 -5.016620  3\n",
       "..        ...       ...        ...       ...        ...       ... ..\n",
       "595 -4.958342  8.133838   1.991911 -6.290361   3.493965 -1.571128  1\n",
       "596 -1.343884  9.910048   7.337545 -7.699151  -0.031236 -1.912857  1\n",
       "597  0.671640  1.257029 -10.061711 -3.783631   5.633200  6.568291  0\n",
       "598 -3.463658  7.823700   3.137636 -8.434920   1.236785 -2.459315  1\n",
       "599  3.101222 -7.477848   0.854842  3.900916  -9.912677 -8.388167  3\n",
       "\n",
       "[600 rows x 7 columns]"
      ]
     },
     "metadata": {},
     "output_type": "display_data"
    }
   ],
   "source": [
    "import pandas as pd\n",
    "df1=pd.DataFrame(data[0]) #,columns=['f1','f2','f3','f4','f5','f6']\n",
    "df2=pd.DataFrame(data[1]) #,columns=['target']\n",
    "df=pd.concat([df1,df2],axis=1)\n",
    "display(df)"
   ]
  },
  {
   "cell_type": "markdown",
   "metadata": {},
   "source": [
    "## Visualize Data"
   ]
  },
  {
   "cell_type": "code",
   "execution_count": 5,
   "metadata": {},
   "outputs": [
    {
     "data": {
      "text/plain": [
       "<matplotlib.collections.PathCollection at 0x2061c696880>"
      ]
     },
     "execution_count": 5,
     "metadata": {},
     "output_type": "execute_result"
    },
    {
     "data": {
      "image/png": "[encoded data removed]",
      "text/plain": [
       "<Figure size 432x288 with 1 Axes>"
      ]
     },
     "metadata": {
      "needs_background": "light"
     },
     "output_type": "display_data"
    }
   ],
   "source": [
    "plt.scatter(data[0][:,0],data[0][:,1],c=data[1],cmap='rainbow') #feature1,f2 plot"
   ]
  },
  {
   "cell_type": "markdown",
   "metadata": {},
   "source": [
    "## Creating the Clusters"
   ]
  },
  {
   "cell_type": "code",
   "execution_count": 6,
   "metadata": {},
   "outputs": [],
   "source": [
    "from sklearn.cluster import KMeans"
   ]
  },
  {
   "cell_type": "code",
   "execution_count": 7,
   "metadata": {},
   "outputs": [],
   "source": [
    "kmeans = KMeans(n_clusters=6)"
   ]
  },
  {
   "cell_type": "code",
   "execution_count": 8,
   "metadata": {},
   "outputs": [
    {
     "data": {
      "text/plain": [
       "KMeans(n_clusters=6)"
      ]
     },
     "execution_count": 8,
     "metadata": {},
     "output_type": "execute_result"
    }
   ],
   "source": [
    "kmeans.fit(data[0])"
   ]
  },
  {
   "cell_type": "code",
   "execution_count": 9,
   "metadata": {},
   "outputs": [
    {
     "data": {
      "text/plain": [
       "array([[-6.24779216,  5.856173  ,  9.36431571, -5.40644123, -8.0425601 ,\n",
       "         2.11093674],\n",
       "       [ 0.2721467 ,  1.39219901, -9.23412744, -6.68185814,  3.97996744,\n",
       "         6.63225933],\n",
       "       [ 3.89518101, -4.19666056,  3.36161162,  1.86458242, -9.06904238,\n",
       "        -6.29670844],\n",
       "       [-3.14241426,  8.54000645,  4.11485258, -7.12803012,  0.27132729,\n",
       "        -3.80269022],\n",
       "       [ 5.26362299, -4.86267376,  3.76277653, -0.9793201 , -9.12945777,\n",
       "        -7.83698296],\n",
       "       [-4.1225757 ,  7.42495402,  4.86211212, -5.47547394,  1.80418434,\n",
       "        -1.90531844]])"
      ]
     },
     "execution_count": 9,
     "metadata": {},
     "output_type": "execute_result"
    }
   ],
   "source": [
    "kmeans.cluster_centers_"
   ]
  },
  {
   "cell_type": "code",
   "execution_count": 10,
   "metadata": {},
   "outputs": [
    {
     "data": {
      "text/plain": [
       "array([0, 0, 5, 2, 4, 2, 4, 0, 4, 0, 1, 2, 1, 3, 2, 1, 4, 0, 2, 4, 5, 1,\n",
       "       4, 4, 4, 0, 1, 4, 0, 1, 3, 5, 0, 0, 1, 4, 0, 0, 5, 1, 1, 1, 3, 1,\n",
       "       1, 0, 1, 0, 0, 4, 5, 5, 1, 0, 4, 4, 5, 0, 1, 1, 4, 0, 1, 5, 5, 0,\n",
       "       2, 1, 1, 0, 5, 3, 4, 4, 1, 4, 5, 4, 5, 3, 0, 5, 4, 2, 0, 3, 5, 3,\n",
       "       1, 2, 0, 5, 5, 1, 4, 2, 5, 0, 5, 1, 0, 1, 0, 0, 5, 3, 3, 3, 2, 3,\n",
       "       5, 5, 0, 5, 3, 5, 1, 0, 4, 0, 3, 3, 4, 0, 4, 0, 0, 3, 3, 3, 4, 3,\n",
       "       0, 0, 3, 1, 2, 0, 4, 5, 0, 5, 0, 1, 0, 1, 4, 5, 0, 2, 3, 1, 0, 1,\n",
       "       1, 2, 5, 0, 1, 3, 1, 0, 3, 1, 0, 2, 0, 2, 1, 0, 0, 3, 1, 2, 0, 4,\n",
       "       1, 0, 0, 3, 0, 2, 0, 3, 0, 4, 1, 4, 4, 1, 0, 0, 1, 0, 0, 4, 0, 1,\n",
       "       0, 3, 1, 1, 1, 1, 3, 0, 5, 5, 0, 5, 1, 5, 4, 5, 1, 3, 0, 0, 0, 2,\n",
       "       1, 0, 0, 2, 4, 4, 3, 2, 0, 2, 2, 4, 5, 4, 4, 0, 0, 2, 2, 5, 5, 1,\n",
       "       0, 3, 1, 2, 2, 2, 1, 0, 2, 0, 1, 0, 4, 2, 2, 1, 1, 0, 1, 1, 2, 4,\n",
       "       1, 0, 4, 3, 2, 1, 3, 0, 1, 0, 3, 3, 4, 2, 5, 0, 4, 5, 1, 0, 3, 4,\n",
       "       1, 1, 0, 0, 0, 0, 3, 1, 0, 5, 2, 5, 0, 0, 4, 0, 5, 5, 2, 1, 0, 1,\n",
       "       2, 2, 0, 5, 0, 4, 0, 0, 5, 4, 1, 1, 5, 4, 3, 2, 4, 2, 0, 1, 1, 5,\n",
       "       1, 1, 5, 1, 1, 5, 2, 1, 5, 1, 3, 3, 1, 1, 0, 0, 4, 4, 4, 2, 5, 0,\n",
       "       0, 2, 1, 1, 5, 3, 5, 1, 0, 1, 5, 0, 0, 4, 1, 5, 2, 3, 5, 0, 2, 5,\n",
       "       1, 0, 2, 0, 5, 0, 4, 2, 1, 4, 5, 0, 1, 1, 1, 0, 3, 4, 3, 2, 0, 4,\n",
       "       2, 2, 5, 3, 1, 1, 1, 2, 5, 1, 3, 1, 4, 1, 0, 1, 0, 4, 1, 3, 4, 1,\n",
       "       0, 5, 1, 0, 0, 5, 0, 4, 1, 0, 0, 5, 0, 2, 5, 1, 4, 1, 0, 4, 0, 0,\n",
       "       1, 1, 1, 1, 1, 5, 2, 5, 5, 2, 1, 1, 0, 0, 4, 3, 4, 2, 0, 5, 1, 1,\n",
       "       1, 2, 1, 5, 0, 4, 0, 0, 5, 5, 4, 0, 1, 5, 0, 1, 1, 4, 2, 1, 1, 2,\n",
       "       5, 3, 1, 0, 1, 3, 5, 0, 0, 3, 4, 3, 0, 2, 0, 1, 5, 0, 0, 2, 1, 1,\n",
       "       0, 2, 5, 4, 4, 1, 1, 3, 2, 1, 4, 1, 3, 2, 3, 1, 1, 0, 5, 3, 1, 5,\n",
       "       1, 0, 4, 2, 4, 5, 4, 0, 3, 1, 0, 3, 4, 2, 5, 1, 5, 1, 1, 1, 1, 1,\n",
       "       0, 1, 3, 1, 0, 3, 3, 2, 5, 3, 5, 0, 1, 1, 0, 0, 2, 1, 2, 4, 1, 5,\n",
       "       2, 1, 2, 4, 0, 1, 3, 1, 4, 0, 1, 0, 2, 0, 0, 4, 3, 3, 1, 1, 1, 5,\n",
       "       0, 5, 3, 1, 3, 2])"
      ]
     },
     "execution_count": 10,
     "metadata": {},
     "output_type": "execute_result"
    }
   ],
   "source": [
    "kmeans.labels_"
   ]
  },
  {
   "cell_type": "code",
   "execution_count": 11,
   "metadata": {},
   "outputs": [
    {
     "data": {
      "text/plain": [
       "<matplotlib.collections.PathCollection at 0x2061d7fc370>"
      ]
     },
     "execution_count": 11,
     "metadata": {},
     "output_type": "execute_result"
    },
    {
     "data": {
      "image/png": "[encoded data removed]",
      "text/plain": [
       "<Figure size 720x432 with 2 Axes>"
      ]
     },
     "metadata": {
      "needs_background": "light"
     },
     "output_type": "display_data"
    }
   ],
   "source": [
    "f, (ax1, ax2) = plt.subplots(1, 2, sharey=True,figsize=(10,6))\n",
    "ax1.set_title('K Means')\n",
    "ax1.scatter(data[0][:,0],data[0][:,1],c=kmeans.labels_,cmap='rainbow')\n",
    "ax2.set_title(\"Original\")\n",
    "ax2.scatter(data[0][:,0],data[0][:,1],c=data[1],cmap='rainbow')"
   ]
  },
  {
   "cell_type": "code",
   "execution_count": 29,
   "metadata": {},
   "outputs": [
    {
     "data": {
      "text/plain": [
       "<Figure size 720x504 with 0 Axes>"
      ]
     },
     "execution_count": 29,
     "metadata": {},
     "output_type": "execute_result"
    },
    {
     "data": {
      "text/plain": [
       "<Figure size 720x504 with 0 Axes>"
      ]
     },
     "metadata": {},
     "output_type": "display_data"
    }
   ],
   "source": [
    "from matplotlib import pyplot as plt\n",
    "\n",
    "import scipy.cluster.hierarchy as shc\n",
    "\n",
    "%matplotlib inline\n",
    "plt.figure(figsize=(10,7))"
   ]
  },
  {
   "cell_type": "code",
   "execution_count": 43,
   "metadata": {},
   "outputs": [
    {
     "data": {
      "text/plain": [
       "<Figure size 720x648 with 0 Axes>"
      ]
     },
     "metadata": {},
     "output_type": "display_data"
    },
    {
     "data": {
      "image/png": "[encoded data removed]",
      "text/plain": [
       "<Figure size 432x288 with 1 Axes>"
      ]
     },
     "metadata": {
      "needs_background": "light"
     },
     "output_type": "display_data"
    }
   ],
   "source": [
    "plt.figure(figsize=(10,9))\n",
    "# Import the python libraries\n",
    "import numpy as np\n",
    "from scipy.cluster import hierarchy\n",
    "import matplotlib.pyplot as plt\n",
    " \n",
    "# Create an array\n",
    "\n",
    " \n",
    "# Plot the hierarchical clustering as a dendrogram.\n",
    "temp = hierarchy.linkage(df1.head(5), 'single')\n",
    "plt.figure()\n",
    " \n",
    "dn = hierarchy.dendrogram(temp)"
   ]
  },
  {
   "cell_type": "code",
   "execution_count": 46,
   "metadata": {},
   "outputs": [
    {
     "data": {
      "text/html": [
       "<div>\n",
       "<style scoped>\n",
       "    .dataframe tbody tr th:only-of-type {\n",
       "        vertical-align: middle;\n",
       "    }\n",
       "\n",
       "    .dataframe tbody tr th {\n",
       "        vertical-align: top;\n",
       "    }\n",
       "\n",
       "    .dataframe thead th {\n",
       "        text-align: right;\n",
       "    }\n",
       "</style>\n",
       "<table border=\"1\" class=\"dataframe\">\n",
       "  <thead>\n",
       "    <tr style=\"text-align: right;\">\n",
       "      <th></th>\n",
       "      <th>Unnamed: 0</th>\n",
       "      <th>5.1</th>\n",
       "      <th>3.5</th>\n",
       "      <th>1.4</th>\n",
       "      <th>0.2</th>\n",
       "      <th>Iris-setosa</th>\n",
       "    </tr>\n",
       "  </thead>\n",
       "  <tbody>\n",
       "    <tr>\n",
       "      <th>0</th>\n",
       "      <td>0</td>\n",
       "      <td>4.9</td>\n",
       "      <td>3.0</td>\n",
       "      <td>1.4</td>\n",
       "      <td>0.2</td>\n",
       "      <td>Iris-setosa</td>\n",
       "    </tr>\n",
       "    <tr>\n",
       "      <th>1</th>\n",
       "      <td>1</td>\n",
       "      <td>4.7</td>\n",
       "      <td>3.2</td>\n",
       "      <td>1.3</td>\n",
       "      <td>0.2</td>\n",
       "      <td>Iris-setosa</td>\n",
       "    </tr>\n",
       "    <tr>\n",
       "      <th>2</th>\n",
       "      <td>2</td>\n",
       "      <td>4.6</td>\n",
       "      <td>3.1</td>\n",
       "      <td>1.5</td>\n",
       "      <td>0.2</td>\n",
       "      <td>Iris-setosa</td>\n",
       "    </tr>\n",
       "    <tr>\n",
       "      <th>3</th>\n",
       "      <td>3</td>\n",
       "      <td>5.0</td>\n",
       "      <td>3.6</td>\n",
       "      <td>1.4</td>\n",
       "      <td>0.2</td>\n",
       "      <td>Iris-setosa</td>\n",
       "    </tr>\n",
       "    <tr>\n",
       "      <th>4</th>\n",
       "      <td>4</td>\n",
       "      <td>5.4</td>\n",
       "      <td>3.9</td>\n",
       "      <td>1.7</td>\n",
       "      <td>0.4</td>\n",
       "      <td>Iris-setosa</td>\n",
       "    </tr>\n",
       "    <tr>\n",
       "      <th>...</th>\n",
       "      <td>...</td>\n",
       "      <td>...</td>\n",
       "      <td>...</td>\n",
       "      <td>...</td>\n",
       "      <td>...</td>\n",
       "      <td>...</td>\n",
       "    </tr>\n",
       "    <tr>\n",
       "      <th>144</th>\n",
       "      <td>144</td>\n",
       "      <td>6.7</td>\n",
       "      <td>3.0</td>\n",
       "      <td>5.2</td>\n",
       "      <td>2.3</td>\n",
       "      <td>Iris-virginica</td>\n",
       "    </tr>\n",
       "    <tr>\n",
       "      <th>145</th>\n",
       "      <td>145</td>\n",
       "      <td>6.3</td>\n",
       "      <td>2.5</td>\n",
       "      <td>5.0</td>\n",
       "      <td>1.9</td>\n",
       "      <td>Iris-virginica</td>\n",
       "    </tr>\n",
       "    <tr>\n",
       "      <th>146</th>\n",
       "      <td>146</td>\n",
       "      <td>6.5</td>\n",
       "      <td>3.0</td>\n",
       "      <td>5.2</td>\n",
       "      <td>2.0</td>\n",
       "      <td>Iris-virginica</td>\n",
       "    </tr>\n",
       "    <tr>\n",
       "      <th>147</th>\n",
       "      <td>147</td>\n",
       "      <td>6.2</td>\n",
       "      <td>3.4</td>\n",
       "      <td>5.4</td>\n",
       "      <td>2.3</td>\n",
       "      <td>Iris-virginica</td>\n",
       "    </tr>\n",
       "    <tr>\n",
       "      <th>148</th>\n",
       "      <td>148</td>\n",
       "      <td>5.9</td>\n",
       "      <td>3.0</td>\n",
       "      <td>5.1</td>\n",
       "      <td>1.8</td>\n",
       "      <td>Iris-virginica</td>\n",
       "    </tr>\n",
       "  </tbody>\n",
       "</table>\n",
       "<p>149 rows × 6 columns</p>\n",
       "</div>"
      ],
      "text/plain": [
       "     Unnamed: 0  5.1  3.5  1.4  0.2     Iris-setosa\n",
       "0             0  4.9  3.0  1.4  0.2     Iris-setosa\n",
       "1             1  4.7  3.2  1.3  0.2     Iris-setosa\n",
       "2             2  4.6  3.1  1.5  0.2     Iris-setosa\n",
       "3             3  5.0  3.6  1.4  0.2     Iris-setosa\n",
       "4             4  5.4  3.9  1.7  0.4     Iris-setosa\n",
       "..          ...  ...  ...  ...  ...             ...\n",
       "144         144  6.7  3.0  5.2  2.3  Iris-virginica\n",
       "145         145  6.3  2.5  5.0  1.9  Iris-virginica\n",
       "146         146  6.5  3.0  5.2  2.0  Iris-virginica\n",
       "147         147  6.2  3.4  5.4  2.3  Iris-virginica\n",
       "148         148  5.9  3.0  5.1  1.8  Iris-virginica\n",
       "\n",
       "[149 rows x 6 columns]"
      ]
     },
     "metadata": {},
     "output_type": "display_data"
    },
    {
     "data": {
      "text/html": [
       "<div>\n",
       "<style scoped>\n",
       "    .dataframe tbody tr th:only-of-type {\n",
       "        vertical-align: middle;\n",
       "    }\n",
       "\n",
       "    .dataframe tbody tr th {\n",
       "        vertical-align: top;\n",
       "    }\n",
       "\n",
       "    .dataframe thead th {\n",
       "        text-align: right;\n",
       "    }\n",
       "</style>\n",
       "<table border=\"1\" class=\"dataframe\">\n",
       "  <thead>\n",
       "    <tr style=\"text-align: right;\">\n",
       "      <th></th>\n",
       "      <th>sepal_length</th>\n",
       "      <th>sepal_width</th>\n",
       "      <th>petal_length</th>\n",
       "      <th>petal_width</th>\n",
       "      <th>target</th>\n",
       "    </tr>\n",
       "  </thead>\n",
       "  <tbody>\n",
       "    <tr>\n",
       "      <th>0</th>\n",
       "      <td>4.9</td>\n",
       "      <td>3.0</td>\n",
       "      <td>1.4</td>\n",
       "      <td>0.2</td>\n",
       "      <td>Iris-setosa</td>\n",
       "    </tr>\n",
       "    <tr>\n",
       "      <th>1</th>\n",
       "      <td>4.7</td>\n",
       "      <td>3.2</td>\n",
       "      <td>1.3</td>\n",
       "      <td>0.2</td>\n",
       "      <td>Iris-setosa</td>\n",
       "    </tr>\n",
       "    <tr>\n",
       "      <th>2</th>\n",
       "      <td>4.6</td>\n",
       "      <td>3.1</td>\n",
       "      <td>1.5</td>\n",
       "      <td>0.2</td>\n",
       "      <td>Iris-setosa</td>\n",
       "    </tr>\n",
       "    <tr>\n",
       "      <th>3</th>\n",
       "      <td>5.0</td>\n",
       "      <td>3.6</td>\n",
       "      <td>1.4</td>\n",
       "      <td>0.2</td>\n",
       "      <td>Iris-setosa</td>\n",
       "    </tr>\n",
       "    <tr>\n",
       "      <th>4</th>\n",
       "      <td>5.4</td>\n",
       "      <td>3.9</td>\n",
       "      <td>1.7</td>\n",
       "      <td>0.4</td>\n",
       "      <td>Iris-setosa</td>\n",
       "    </tr>\n",
       "    <tr>\n",
       "      <th>...</th>\n",
       "      <td>...</td>\n",
       "      <td>...</td>\n",
       "      <td>...</td>\n",
       "      <td>...</td>\n",
       "      <td>...</td>\n",
       "    </tr>\n",
       "    <tr>\n",
       "      <th>144</th>\n",
       "      <td>6.7</td>\n",
       "      <td>3.0</td>\n",
       "      <td>5.2</td>\n",
       "      <td>2.3</td>\n",
       "      <td>Iris-virginica</td>\n",
       "    </tr>\n",
       "    <tr>\n",
       "      <th>145</th>\n",
       "      <td>6.3</td>\n",
       "      <td>2.5</td>\n",
       "      <td>5.0</td>\n",
       "      <td>1.9</td>\n",
       "      <td>Iris-virginica</td>\n",
       "    </tr>\n",
       "    <tr>\n",
       "      <th>146</th>\n",
       "      <td>6.5</td>\n",
       "      <td>3.0</td>\n",
       "      <td>5.2</td>\n",
       "      <td>2.0</td>\n",
       "      <td>Iris-virginica</td>\n",
       "    </tr>\n",
       "    <tr>\n",
       "      <th>147</th>\n",
       "      <td>6.2</td>\n",
       "      <td>3.4</td>\n",
       "      <td>5.4</td>\n",
       "      <td>2.3</td>\n",
       "      <td>Iris-virginica</td>\n",
       "    </tr>\n",
       "    <tr>\n",
       "      <th>148</th>\n",
       "      <td>5.9</td>\n",
       "      <td>3.0</td>\n",
       "      <td>5.1</td>\n",
       "      <td>1.8</td>\n",
       "      <td>Iris-virginica</td>\n",
       "    </tr>\n",
       "  </tbody>\n",
       "</table>\n",
       "<p>149 rows × 5 columns</p>\n",
       "</div>"
      ],
      "text/plain": [
       "    sepal_length sepal_width petal_length petal_width          target\n",
       "0            4.9         3.0          1.4         0.2     Iris-setosa\n",
       "1            4.7         3.2          1.3         0.2     Iris-setosa\n",
       "2            4.6         3.1          1.5         0.2     Iris-setosa\n",
       "3            5.0         3.6          1.4         0.2     Iris-setosa\n",
       "4            5.4         3.9          1.7         0.4     Iris-setosa\n",
       "..           ...         ...          ...         ...             ...\n",
       "144          6.7         3.0          5.2         2.3  Iris-virginica\n",
       "145          6.3         2.5          5.0         1.9  Iris-virginica\n",
       "146          6.5         3.0          5.2         2.0  Iris-virginica\n",
       "147          6.2         3.4          5.4         2.3  Iris-virginica\n",
       "148          5.9         3.0          5.1         1.8  Iris-virginica\n",
       "\n",
       "[149 rows x 5 columns]"
      ]
     },
     "metadata": {},
     "output_type": "display_data"
    }
   ],
   "source": [
    "df=pd.read_csv(\"iris\")\n",
    "display(df)\n",
    "df_arr = df.to_numpy()\n",
    "\n",
    "df=pd.DataFrame(df_arr,columns=['A','sepal_length','sepal_width','petal_length','petal_width','target'])\n",
    "df.drop('A',axis=1,inplace=True)\n",
    "display(df)\n",
    "target=df[\"target\"].unique()"
   ]
  },
  {
   "cell_type": "code",
   "execution_count": 47,
   "metadata": {},
   "outputs": [
    {
     "name": "stdout",
     "output_type": "stream",
     "text": [
      "['Iris-setosa' 'Iris-versicolor' 'Iris-virginica']\n"
     ]
    }
   ],
   "source": [
    "print(target)"
   ]
  },
  {
   "cell_type": "code",
   "execution_count": 75,
   "metadata": {},
   "outputs": [
    {
     "data": {
      "text/html": [
       "<div>\n",
       "<style scoped>\n",
       "    .dataframe tbody tr th:only-of-type {\n",
       "        vertical-align: middle;\n",
       "    }\n",
       "\n",
       "    .dataframe tbody tr th {\n",
       "        vertical-align: top;\n",
       "    }\n",
       "\n",
       "    .dataframe thead th {\n",
       "        text-align: right;\n",
       "    }\n",
       "</style>\n",
       "<table border=\"1\" class=\"dataframe\">\n",
       "  <thead>\n",
       "    <tr style=\"text-align: right;\">\n",
       "      <th></th>\n",
       "      <th>sepal_length</th>\n",
       "      <th>sepal_width</th>\n",
       "      <th>petal_length</th>\n",
       "      <th>petal_width</th>\n",
       "      <th>target</th>\n",
       "    </tr>\n",
       "  </thead>\n",
       "  <tbody>\n",
       "    <tr>\n",
       "      <th>0</th>\n",
       "      <td>4.9</td>\n",
       "      <td>3.0</td>\n",
       "      <td>1.4</td>\n",
       "      <td>0.2</td>\n",
       "      <td>Iris-setosa</td>\n",
       "    </tr>\n",
       "    <tr>\n",
       "      <th>1</th>\n",
       "      <td>4.7</td>\n",
       "      <td>3.2</td>\n",
       "      <td>1.3</td>\n",
       "      <td>0.2</td>\n",
       "      <td>Iris-setosa</td>\n",
       "    </tr>\n",
       "    <tr>\n",
       "      <th>2</th>\n",
       "      <td>4.6</td>\n",
       "      <td>3.1</td>\n",
       "      <td>1.5</td>\n",
       "      <td>0.2</td>\n",
       "      <td>Iris-setosa</td>\n",
       "    </tr>\n",
       "    <tr>\n",
       "      <th>3</th>\n",
       "      <td>5.0</td>\n",
       "      <td>3.6</td>\n",
       "      <td>1.4</td>\n",
       "      <td>0.2</td>\n",
       "      <td>Iris-setosa</td>\n",
       "    </tr>\n",
       "    <tr>\n",
       "      <th>4</th>\n",
       "      <td>5.4</td>\n",
       "      <td>3.9</td>\n",
       "      <td>1.7</td>\n",
       "      <td>0.4</td>\n",
       "      <td>Iris-setosa</td>\n",
       "    </tr>\n",
       "  </tbody>\n",
       "</table>\n",
       "</div>"
      ],
      "text/plain": [
       "  sepal_length sepal_width petal_length petal_width       target\n",
       "0          4.9         3.0          1.4         0.2  Iris-setosa\n",
       "1          4.7         3.2          1.3         0.2  Iris-setosa\n",
       "2          4.6         3.1          1.5         0.2  Iris-setosa\n",
       "3          5.0         3.6          1.4         0.2  Iris-setosa\n",
       "4          5.4         3.9          1.7         0.4  Iris-setosa"
      ]
     },
     "metadata": {},
     "output_type": "display_data"
    },
    {
     "data": {
      "text/html": [
       "<div>\n",
       "<style scoped>\n",
       "    .dataframe tbody tr th:only-of-type {\n",
       "        vertical-align: middle;\n",
       "    }\n",
       "\n",
       "    .dataframe tbody tr th {\n",
       "        vertical-align: top;\n",
       "    }\n",
       "\n",
       "    .dataframe thead th {\n",
       "        text-align: right;\n",
       "    }\n",
       "</style>\n",
       "<table border=\"1\" class=\"dataframe\">\n",
       "  <thead>\n",
       "    <tr style=\"text-align: right;\">\n",
       "      <th></th>\n",
       "      <th>sepal_length</th>\n",
       "      <th>sepal_width</th>\n",
       "      <th>petal_length</th>\n",
       "      <th>petal_width</th>\n",
       "      <th>target</th>\n",
       "    </tr>\n",
       "  </thead>\n",
       "  <tbody>\n",
       "    <tr>\n",
       "      <th>49</th>\n",
       "      <td>7.0</td>\n",
       "      <td>3.2</td>\n",
       "      <td>4.7</td>\n",
       "      <td>1.4</td>\n",
       "      <td>Iris-versicolor</td>\n",
       "    </tr>\n",
       "    <tr>\n",
       "      <th>50</th>\n",
       "      <td>6.4</td>\n",
       "      <td>3.2</td>\n",
       "      <td>4.5</td>\n",
       "      <td>1.5</td>\n",
       "      <td>Iris-versicolor</td>\n",
       "    </tr>\n",
       "    <tr>\n",
       "      <th>51</th>\n",
       "      <td>6.9</td>\n",
       "      <td>3.1</td>\n",
       "      <td>4.9</td>\n",
       "      <td>1.5</td>\n",
       "      <td>Iris-versicolor</td>\n",
       "    </tr>\n",
       "    <tr>\n",
       "      <th>52</th>\n",
       "      <td>5.5</td>\n",
       "      <td>2.3</td>\n",
       "      <td>4.0</td>\n",
       "      <td>1.3</td>\n",
       "      <td>Iris-versicolor</td>\n",
       "    </tr>\n",
       "    <tr>\n",
       "      <th>53</th>\n",
       "      <td>6.5</td>\n",
       "      <td>2.8</td>\n",
       "      <td>4.6</td>\n",
       "      <td>1.5</td>\n",
       "      <td>Iris-versicolor</td>\n",
       "    </tr>\n",
       "  </tbody>\n",
       "</table>\n",
       "</div>"
      ],
      "text/plain": [
       "   sepal_length sepal_width petal_length petal_width           target\n",
       "49          7.0         3.2          4.7         1.4  Iris-versicolor\n",
       "50          6.4         3.2          4.5         1.5  Iris-versicolor\n",
       "51          6.9         3.1          4.9         1.5  Iris-versicolor\n",
       "52          5.5         2.3          4.0         1.3  Iris-versicolor\n",
       "53          6.5         2.8          4.6         1.5  Iris-versicolor"
      ]
     },
     "metadata": {},
     "output_type": "display_data"
    },
    {
     "data": {
      "text/html": [
       "<div>\n",
       "<style scoped>\n",
       "    .dataframe tbody tr th:only-of-type {\n",
       "        vertical-align: middle;\n",
       "    }\n",
       "\n",
       "    .dataframe tbody tr th {\n",
       "        vertical-align: top;\n",
       "    }\n",
       "\n",
       "    .dataframe thead th {\n",
       "        text-align: right;\n",
       "    }\n",
       "</style>\n",
       "<table border=\"1\" class=\"dataframe\">\n",
       "  <thead>\n",
       "    <tr style=\"text-align: right;\">\n",
       "      <th></th>\n",
       "      <th>sepal_length</th>\n",
       "      <th>sepal_width</th>\n",
       "      <th>petal_length</th>\n",
       "      <th>petal_width</th>\n",
       "      <th>target</th>\n",
       "    </tr>\n",
       "  </thead>\n",
       "  <tbody>\n",
       "    <tr>\n",
       "      <th>99</th>\n",
       "      <td>6.3</td>\n",
       "      <td>3.3</td>\n",
       "      <td>6.0</td>\n",
       "      <td>2.5</td>\n",
       "      <td>Iris-virginica</td>\n",
       "    </tr>\n",
       "    <tr>\n",
       "      <th>100</th>\n",
       "      <td>5.8</td>\n",
       "      <td>2.7</td>\n",
       "      <td>5.1</td>\n",
       "      <td>1.9</td>\n",
       "      <td>Iris-virginica</td>\n",
       "    </tr>\n",
       "    <tr>\n",
       "      <th>101</th>\n",
       "      <td>7.1</td>\n",
       "      <td>3.0</td>\n",
       "      <td>5.9</td>\n",
       "      <td>2.1</td>\n",
       "      <td>Iris-virginica</td>\n",
       "    </tr>\n",
       "    <tr>\n",
       "      <th>102</th>\n",
       "      <td>6.3</td>\n",
       "      <td>2.9</td>\n",
       "      <td>5.6</td>\n",
       "      <td>1.8</td>\n",
       "      <td>Iris-virginica</td>\n",
       "    </tr>\n",
       "    <tr>\n",
       "      <th>103</th>\n",
       "      <td>6.5</td>\n",
       "      <td>3.0</td>\n",
       "      <td>5.8</td>\n",
       "      <td>2.2</td>\n",
       "      <td>Iris-virginica</td>\n",
       "    </tr>\n",
       "  </tbody>\n",
       "</table>\n",
       "</div>"
      ],
      "text/plain": [
       "    sepal_length sepal_width petal_length petal_width          target\n",
       "99           6.3         3.3          6.0         2.5  Iris-virginica\n",
       "100          5.8         2.7          5.1         1.9  Iris-virginica\n",
       "101          7.1         3.0          5.9         2.1  Iris-virginica\n",
       "102          6.3         2.9          5.6         1.8  Iris-virginica\n",
       "103          6.5         3.0          5.8         2.2  Iris-virginica"
      ]
     },
     "metadata": {},
     "output_type": "display_data"
    },
    {
     "data": {
      "image/png": "[encoded data removed]",
      "text/plain": [
       "<Figure size 432x288 with 1 Axes>"
      ]
     },
     "metadata": {
      "needs_background": "light"
     },
     "output_type": "display_data"
    },
    {
     "data": {
      "image/png": "[encoded data removed]",
      "text/plain": [
       "<Figure size 432x288 with 1 Axes>"
      ]
     },
     "metadata": {
      "needs_background": "light"
     },
     "output_type": "display_data"
    },
    {
     "data": {
      "image/png": "[encoded data removed]",
      "text/plain": [
       "<Figure size 432x288 with 1 Axes>"
      ]
     },
     "metadata": {
      "needs_background": "light"
     },
     "output_type": "display_data"
    }
   ],
   "source": [
    "df_l=[]\n",
    "for item in target:\n",
    "    df_=df[df['target']==item]\n",
    "    display(df_.head(5))\n",
    "    df_=df_.drop('target',axis=1)\n",
    "    temp = hierarchy.linkage(df_.head(5), 'single')\n",
    "    plt.figure()\n",
    "    plt.xlabel('Sample '+item)\n",
    "    plt.ylabel('Distance')\n",
    "    #plt.legend(item)\n",
    " \n",
    "    dn = hierarchy.dendrogram(temp)\n",
    "    df_l.append(df_.head(5))\n",
    "    "
   ]
  },
  {
   "cell_type": "code",
   "execution_count": 76,
   "metadata": {},
   "outputs": [],
   "source": [
    "df_c=pd.concat(df_l)"
   ]
  },
  {
   "cell_type": "code",
   "execution_count": 77,
   "metadata": {},
   "outputs": [
    {
     "data": {
      "text/html": [
       "<div>\n",
       "<style scoped>\n",
       "    .dataframe tbody tr th:only-of-type {\n",
       "        vertical-align: middle;\n",
       "    }\n",
       "\n",
       "    .dataframe tbody tr th {\n",
       "        vertical-align: top;\n",
       "    }\n",
       "\n",
       "    .dataframe thead th {\n",
       "        text-align: right;\n",
       "    }\n",
       "</style>\n",
       "<table border=\"1\" class=\"dataframe\">\n",
       "  <thead>\n",
       "    <tr style=\"text-align: right;\">\n",
       "      <th></th>\n",
       "      <th>sepal_length</th>\n",
       "      <th>sepal_width</th>\n",
       "      <th>petal_length</th>\n",
       "      <th>petal_width</th>\n",
       "    </tr>\n",
       "  </thead>\n",
       "  <tbody>\n",
       "    <tr>\n",
       "      <th>0</th>\n",
       "      <td>4.9</td>\n",
       "      <td>3.0</td>\n",
       "      <td>1.4</td>\n",
       "      <td>0.2</td>\n",
       "    </tr>\n",
       "    <tr>\n",
       "      <th>1</th>\n",
       "      <td>4.7</td>\n",
       "      <td>3.2</td>\n",
       "      <td>1.3</td>\n",
       "      <td>0.2</td>\n",
       "    </tr>\n",
       "    <tr>\n",
       "      <th>2</th>\n",
       "      <td>4.6</td>\n",
       "      <td>3.1</td>\n",
       "      <td>1.5</td>\n",
       "      <td>0.2</td>\n",
       "    </tr>\n",
       "    <tr>\n",
       "      <th>3</th>\n",
       "      <td>5.0</td>\n",
       "      <td>3.6</td>\n",
       "      <td>1.4</td>\n",
       "      <td>0.2</td>\n",
       "    </tr>\n",
       "    <tr>\n",
       "      <th>4</th>\n",
       "      <td>5.4</td>\n",
       "      <td>3.9</td>\n",
       "      <td>1.7</td>\n",
       "      <td>0.4</td>\n",
       "    </tr>\n",
       "    <tr>\n",
       "      <th>49</th>\n",
       "      <td>7.0</td>\n",
       "      <td>3.2</td>\n",
       "      <td>4.7</td>\n",
       "      <td>1.4</td>\n",
       "    </tr>\n",
       "    <tr>\n",
       "      <th>50</th>\n",
       "      <td>6.4</td>\n",
       "      <td>3.2</td>\n",
       "      <td>4.5</td>\n",
       "      <td>1.5</td>\n",
       "    </tr>\n",
       "    <tr>\n",
       "      <th>51</th>\n",
       "      <td>6.9</td>\n",
       "      <td>3.1</td>\n",
       "      <td>4.9</td>\n",
       "      <td>1.5</td>\n",
       "    </tr>\n",
       "    <tr>\n",
       "      <th>52</th>\n",
       "      <td>5.5</td>\n",
       "      <td>2.3</td>\n",
       "      <td>4.0</td>\n",
       "      <td>1.3</td>\n",
       "    </tr>\n",
       "    <tr>\n",
       "      <th>53</th>\n",
       "      <td>6.5</td>\n",
       "      <td>2.8</td>\n",
       "      <td>4.6</td>\n",
       "      <td>1.5</td>\n",
       "    </tr>\n",
       "    <tr>\n",
       "      <th>99</th>\n",
       "      <td>6.3</td>\n",
       "      <td>3.3</td>\n",
       "      <td>6.0</td>\n",
       "      <td>2.5</td>\n",
       "    </tr>\n",
       "    <tr>\n",
       "      <th>100</th>\n",
       "      <td>5.8</td>\n",
       "      <td>2.7</td>\n",
       "      <td>5.1</td>\n",
       "      <td>1.9</td>\n",
       "    </tr>\n",
       "    <tr>\n",
       "      <th>101</th>\n",
       "      <td>7.1</td>\n",
       "      <td>3.0</td>\n",
       "      <td>5.9</td>\n",
       "      <td>2.1</td>\n",
       "    </tr>\n",
       "    <tr>\n",
       "      <th>102</th>\n",
       "      <td>6.3</td>\n",
       "      <td>2.9</td>\n",
       "      <td>5.6</td>\n",
       "      <td>1.8</td>\n",
       "    </tr>\n",
       "    <tr>\n",
       "      <th>103</th>\n",
       "      <td>6.5</td>\n",
       "      <td>3.0</td>\n",
       "      <td>5.8</td>\n",
       "      <td>2.2</td>\n",
       "    </tr>\n",
       "  </tbody>\n",
       "</table>\n",
       "</div>"
      ],
      "text/plain": [
       "    sepal_length sepal_width petal_length petal_width\n",
       "0            4.9         3.0          1.4         0.2\n",
       "1            4.7         3.2          1.3         0.2\n",
       "2            4.6         3.1          1.5         0.2\n",
       "3            5.0         3.6          1.4         0.2\n",
       "4            5.4         3.9          1.7         0.4\n",
       "49           7.0         3.2          4.7         1.4\n",
       "50           6.4         3.2          4.5         1.5\n",
       "51           6.9         3.1          4.9         1.5\n",
       "52           5.5         2.3          4.0         1.3\n",
       "53           6.5         2.8          4.6         1.5\n",
       "99           6.3         3.3          6.0         2.5\n",
       "100          5.8         2.7          5.1         1.9\n",
       "101          7.1         3.0          5.9         2.1\n",
       "102          6.3         2.9          5.6         1.8\n",
       "103          6.5         3.0          5.8         2.2"
      ]
     },
     "metadata": {},
     "output_type": "display_data"
    }
   ],
   "source": [
    "display(df_c)"
   ]
  },
  {
   "cell_type": "code",
   "execution_count": 79,
   "metadata": {},
   "outputs": [
    {
     "data": {
      "image/png": "[encoded data removed]",
      "text/plain": [
       "<Figure size 432x288 with 1 Axes>"
      ]
     },
     "metadata": {
      "needs_background": "light"
     },
     "output_type": "display_data"
    }
   ],
   "source": [
    "temp = hierarchy.linkage(df_c, 'single')\n",
    "plt.figure()\n",
    "plt.xlabel('Sample Combined')\n",
    "plt.ylabel('Distance')\n",
    "    #plt.legend(item)\n",
    " \n",
    "dn = hierarchy.dendrogram(temp)"
   ]
  },
  {
   "cell_type": "code",
   "execution_count": null,
   "metadata": {},
   "outputs": [],
   "source": []
  }
 ],
 "metadata": {
  "kernelspec": {
   "display_name": "Python 3 (ipykernel)",
   "language": "python",
   "name": "python3"
  },
  "language_info": {
   "codemirror_mode": {
    "name": "ipython",
    "version": 3
   },
   "file_extension": ".py",
   "mimetype": "text/x-python",
   "name": "python",
   "nbconvert_exporter": "python",
   "pygments_lexer": "ipython3",
   "version": "3.9.12"
  }
 },
 "nbformat": 4,
 "nbformat_minor": 1
}
